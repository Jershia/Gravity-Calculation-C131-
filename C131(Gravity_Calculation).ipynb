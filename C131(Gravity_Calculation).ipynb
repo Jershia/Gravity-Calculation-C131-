{
  "nbformat": 4,
  "nbformat_minor": 0,
  "metadata": {
    "colab": {
      "name": "C131(Gravity Calculation)",
      "provenance": [],
      "collapsed_sections": [],
      "include_colab_link": true
    },
    "kernelspec": {
      "name": "python3",
      "display_name": "Python 3"
    }
  },
  "cells": [
    {
      "cell_type": "markdown",
      "metadata": {
        "id": "view-in-github",
        "colab_type": "text"
      },
      "source": [
        "<a href=\"https://colab.research.google.com/github/Jershia/Gravity-Calculation-C131-/blob/main/C131(Gravity_Calculation).ipynb\" target=\"_parent\"><img src=\"https://colab.research.google.com/assets/colab-badge.svg\" alt=\"Open In Colab\"/></a>"
      ]
    },
    {
      "cell_type": "code",
      "metadata": {
        "id": "GOfTJxUx07ey",
        "colab": {
          "resources": {
            "http://localhost:8080/nbextensions/google.colab/files.js": {
              "data": "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",
              "ok": true,
              "headers": [
                [
                  "content-type",
                  "application/javascript"
                ]
              ],
              "status": 200,
              "status_text": ""
            }
          },
          "base_uri": "https://localhost:8080/",
          "height": 73
        },
        "outputId": "ff1c7ca6-09e2-4a97-c647-9aa1d9cee11e"
      },
      "source": [
        "from google.colab import files\n",
        "uploaded = files.upload()"
      ],
      "execution_count": 1,
      "outputs": [
        {
          "output_type": "display_data",
          "data": {
            "text/plain": [
              "<IPython.core.display.HTML object>"
            ],
            "text/html": [
              "\n",
              "     <input type=\"file\" id=\"files-9272082b-7d4d-463d-ba0a-53d9716f15c8\" name=\"files[]\" multiple disabled\n",
              "        style=\"border:none\" />\n",
              "     <output id=\"result-9272082b-7d4d-463d-ba0a-53d9716f15c8\">\n",
              "      Upload widget is only available when the cell has been executed in the\n",
              "      current browser session. Please rerun this cell to enable.\n",
              "      </output>\n",
              "      <script src=\"/nbextensions/google.colab/files.js\"></script> "
            ]
          },
          "metadata": {}
        },
        {
          "output_type": "stream",
          "name": "stdout",
          "text": [
            "Saving final_data.csv to final_data.csv\n"
          ]
        }
      ]
    },
    {
      "cell_type": "markdown",
      "metadata": {
        "id": "lFA5fl7-8zpX"
      },
      "source": [
        "Now let's just write the code to read the CSV"
      ]
    },
    {
      "cell_type": "code",
      "metadata": {
        "id": "yqeODYbF8N-A",
        "colab": {
          "base_uri": "https://localhost:8080/",
          "height": 505
        },
        "outputId": "f76133f6-7b63-400d-eeef-56d49127b7ed"
      },
      "source": [
        "import pandas as pd\n",
        "\n",
        "df = pd.read_csv('final_data.csv')\n",
        "print(df.columns)\n",
        "print(df.dtypes)\n",
        "df = df.dropna()\n",
        "\n",
        "df['Radius'] = df['Radius'].apply(lambda x:x.replace('$','').replace(',','')).astype('float') \n",
        "print(df.dtypes)\n",
        "\n",
        "radiuses = df['Radius'].to_list()\n",
        "masses = df['Mass'].to_list()\n",
        "def conversion(radiuses,masses):\n",
        "    for i in range(0,len(radiuses)):\n",
        "        radiuses[i] = radiuses[i]*6.957e+8\n",
        "        masses[i] = masses[i]*1.989e+30     \n",
        "conversion(radiuses,masses)\n",
        "\n",
        "gravity =[]\n",
        "def gravity_cal(radiuses,masses):\n",
        "    gravitational_constant = 6.674e-11\n",
        "    for index in range(0,len(masses)):\n",
        "        gravitational_value = (masses[index]*gravitational_constant)/((radiuses[index])*(radiuses[index]))\n",
        "        gravity.append(gravitational_value)\n",
        "gravity_cal(radiuses,masses)\n",
        "\n",
        "df[\"Gravity\"] = gravity\n",
        "df.to_csv(\"star_data_gravity.csv\")"
      ],
      "execution_count": 2,
      "outputs": [
        {
          "output_type": "stream",
          "name": "stdout",
          "text": [
            "Index(['Unnamed: 0', 'Name', 'Distance', 'Mass', 'Radius'], dtype='object')\n",
            "Unnamed: 0     int64\n",
            "Name          object\n",
            "Distance      object\n",
            "Mass          object\n",
            "Radius        object\n",
            "dtype: object\n"
          ]
        },
        {
          "output_type": "error",
          "ename": "ValueError",
          "evalue": "ignored",
          "traceback": [
            "\u001b[0;31m---------------------------------------------------------------------------\u001b[0m",
            "\u001b[0;31mValueError\u001b[0m                                Traceback (most recent call last)",
            "\u001b[0;32m<ipython-input-2-2d7fe3a810d3>\u001b[0m in \u001b[0;36m<module>\u001b[0;34m()\u001b[0m\n\u001b[1;32m      7\u001b[0m \u001b[0;34m\u001b[0m\u001b[0m\n\u001b[1;32m      8\u001b[0m \u001b[0;34m\u001b[0m\u001b[0m\n\u001b[0;32m----> 9\u001b[0;31m \u001b[0mdf\u001b[0m\u001b[0;34m[\u001b[0m\u001b[0;34m'Radius'\u001b[0m\u001b[0;34m]\u001b[0m \u001b[0;34m=\u001b[0m \u001b[0mdf\u001b[0m\u001b[0;34m[\u001b[0m\u001b[0;34m'Radius'\u001b[0m\u001b[0;34m]\u001b[0m\u001b[0;34m.\u001b[0m\u001b[0mapply\u001b[0m\u001b[0;34m(\u001b[0m\u001b[0;32mlambda\u001b[0m \u001b[0mx\u001b[0m\u001b[0;34m:\u001b[0m\u001b[0mx\u001b[0m\u001b[0;34m.\u001b[0m\u001b[0mreplace\u001b[0m\u001b[0;34m(\u001b[0m\u001b[0;34m'$'\u001b[0m\u001b[0;34m,\u001b[0m\u001b[0;34m''\u001b[0m\u001b[0;34m)\u001b[0m\u001b[0;34m.\u001b[0m\u001b[0mreplace\u001b[0m\u001b[0;34m(\u001b[0m\u001b[0;34m','\u001b[0m\u001b[0;34m,\u001b[0m\u001b[0;34m''\u001b[0m\u001b[0;34m)\u001b[0m\u001b[0;34m)\u001b[0m\u001b[0;34m.\u001b[0m\u001b[0mastype\u001b[0m\u001b[0;34m(\u001b[0m\u001b[0;34m'float'\u001b[0m\u001b[0;34m)\u001b[0m\u001b[0;34m\u001b[0m\u001b[0;34m\u001b[0m\u001b[0m\n\u001b[0m\u001b[1;32m     10\u001b[0m \u001b[0mprint\u001b[0m\u001b[0;34m(\u001b[0m\u001b[0mdf\u001b[0m\u001b[0;34m.\u001b[0m\u001b[0mdtypes\u001b[0m\u001b[0;34m)\u001b[0m\u001b[0;34m\u001b[0m\u001b[0;34m\u001b[0m\u001b[0m\n\u001b[1;32m     11\u001b[0m \u001b[0;34m\u001b[0m\u001b[0m\n",
            "\u001b[0;32m/usr/local/lib/python3.7/dist-packages/pandas/core/generic.py\u001b[0m in \u001b[0;36mastype\u001b[0;34m(self, dtype, copy, errors)\u001b[0m\n\u001b[1;32m   5813\u001b[0m         \u001b[0;32melse\u001b[0m\u001b[0;34m:\u001b[0m\u001b[0;34m\u001b[0m\u001b[0;34m\u001b[0m\u001b[0m\n\u001b[1;32m   5814\u001b[0m             \u001b[0;31m# else, only a single dtype is given\u001b[0m\u001b[0;34m\u001b[0m\u001b[0;34m\u001b[0m\u001b[0;34m\u001b[0m\u001b[0m\n\u001b[0;32m-> 5815\u001b[0;31m             \u001b[0mnew_data\u001b[0m \u001b[0;34m=\u001b[0m \u001b[0mself\u001b[0m\u001b[0;34m.\u001b[0m\u001b[0m_mgr\u001b[0m\u001b[0;34m.\u001b[0m\u001b[0mastype\u001b[0m\u001b[0;34m(\u001b[0m\u001b[0mdtype\u001b[0m\u001b[0;34m=\u001b[0m\u001b[0mdtype\u001b[0m\u001b[0;34m,\u001b[0m \u001b[0mcopy\u001b[0m\u001b[0;34m=\u001b[0m\u001b[0mcopy\u001b[0m\u001b[0;34m,\u001b[0m \u001b[0merrors\u001b[0m\u001b[0;34m=\u001b[0m\u001b[0merrors\u001b[0m\u001b[0;34m)\u001b[0m\u001b[0;34m\u001b[0m\u001b[0;34m\u001b[0m\u001b[0m\n\u001b[0m\u001b[1;32m   5816\u001b[0m             \u001b[0;32mreturn\u001b[0m \u001b[0mself\u001b[0m\u001b[0;34m.\u001b[0m\u001b[0m_constructor\u001b[0m\u001b[0;34m(\u001b[0m\u001b[0mnew_data\u001b[0m\u001b[0;34m)\u001b[0m\u001b[0;34m.\u001b[0m\u001b[0m__finalize__\u001b[0m\u001b[0;34m(\u001b[0m\u001b[0mself\u001b[0m\u001b[0;34m,\u001b[0m \u001b[0mmethod\u001b[0m\u001b[0;34m=\u001b[0m\u001b[0;34m\"astype\"\u001b[0m\u001b[0;34m)\u001b[0m\u001b[0;34m\u001b[0m\u001b[0;34m\u001b[0m\u001b[0m\n\u001b[1;32m   5817\u001b[0m \u001b[0;34m\u001b[0m\u001b[0m\n",
            "\u001b[0;32m/usr/local/lib/python3.7/dist-packages/pandas/core/internals/managers.py\u001b[0m in \u001b[0;36mastype\u001b[0;34m(self, dtype, copy, errors)\u001b[0m\n\u001b[1;32m    416\u001b[0m \u001b[0;34m\u001b[0m\u001b[0m\n\u001b[1;32m    417\u001b[0m     \u001b[0;32mdef\u001b[0m \u001b[0mastype\u001b[0m\u001b[0;34m(\u001b[0m\u001b[0mself\u001b[0m\u001b[0;34m:\u001b[0m \u001b[0mT\u001b[0m\u001b[0;34m,\u001b[0m \u001b[0mdtype\u001b[0m\u001b[0;34m,\u001b[0m \u001b[0mcopy\u001b[0m\u001b[0;34m:\u001b[0m \u001b[0mbool\u001b[0m \u001b[0;34m=\u001b[0m \u001b[0;32mFalse\u001b[0m\u001b[0;34m,\u001b[0m \u001b[0merrors\u001b[0m\u001b[0;34m:\u001b[0m \u001b[0mstr\u001b[0m \u001b[0;34m=\u001b[0m \u001b[0;34m\"raise\"\u001b[0m\u001b[0;34m)\u001b[0m \u001b[0;34m->\u001b[0m \u001b[0mT\u001b[0m\u001b[0;34m:\u001b[0m\u001b[0;34m\u001b[0m\u001b[0;34m\u001b[0m\u001b[0m\n\u001b[0;32m--> 418\u001b[0;31m         \u001b[0;32mreturn\u001b[0m \u001b[0mself\u001b[0m\u001b[0;34m.\u001b[0m\u001b[0mapply\u001b[0m\u001b[0;34m(\u001b[0m\u001b[0;34m\"astype\"\u001b[0m\u001b[0;34m,\u001b[0m \u001b[0mdtype\u001b[0m\u001b[0;34m=\u001b[0m\u001b[0mdtype\u001b[0m\u001b[0;34m,\u001b[0m \u001b[0mcopy\u001b[0m\u001b[0;34m=\u001b[0m\u001b[0mcopy\u001b[0m\u001b[0;34m,\u001b[0m \u001b[0merrors\u001b[0m\u001b[0;34m=\u001b[0m\u001b[0merrors\u001b[0m\u001b[0;34m)\u001b[0m\u001b[0;34m\u001b[0m\u001b[0;34m\u001b[0m\u001b[0m\n\u001b[0m\u001b[1;32m    419\u001b[0m \u001b[0;34m\u001b[0m\u001b[0m\n\u001b[1;32m    420\u001b[0m     def convert(\n",
            "\u001b[0;32m/usr/local/lib/python3.7/dist-packages/pandas/core/internals/managers.py\u001b[0m in \u001b[0;36mapply\u001b[0;34m(self, f, align_keys, ignore_failures, **kwargs)\u001b[0m\n\u001b[1;32m    325\u001b[0m                     \u001b[0mapplied\u001b[0m \u001b[0;34m=\u001b[0m \u001b[0mb\u001b[0m\u001b[0;34m.\u001b[0m\u001b[0mapply\u001b[0m\u001b[0;34m(\u001b[0m\u001b[0mf\u001b[0m\u001b[0;34m,\u001b[0m \u001b[0;34m**\u001b[0m\u001b[0mkwargs\u001b[0m\u001b[0;34m)\u001b[0m\u001b[0;34m\u001b[0m\u001b[0;34m\u001b[0m\u001b[0m\n\u001b[1;32m    326\u001b[0m                 \u001b[0;32melse\u001b[0m\u001b[0;34m:\u001b[0m\u001b[0;34m\u001b[0m\u001b[0;34m\u001b[0m\u001b[0m\n\u001b[0;32m--> 327\u001b[0;31m                     \u001b[0mapplied\u001b[0m \u001b[0;34m=\u001b[0m \u001b[0mgetattr\u001b[0m\u001b[0;34m(\u001b[0m\u001b[0mb\u001b[0m\u001b[0;34m,\u001b[0m \u001b[0mf\u001b[0m\u001b[0;34m)\u001b[0m\u001b[0;34m(\u001b[0m\u001b[0;34m**\u001b[0m\u001b[0mkwargs\u001b[0m\u001b[0;34m)\u001b[0m\u001b[0;34m\u001b[0m\u001b[0;34m\u001b[0m\u001b[0m\n\u001b[0m\u001b[1;32m    328\u001b[0m             \u001b[0;32mexcept\u001b[0m \u001b[0;34m(\u001b[0m\u001b[0mTypeError\u001b[0m\u001b[0;34m,\u001b[0m \u001b[0mNotImplementedError\u001b[0m\u001b[0;34m)\u001b[0m\u001b[0;34m:\u001b[0m\u001b[0;34m\u001b[0m\u001b[0;34m\u001b[0m\u001b[0m\n\u001b[1;32m    329\u001b[0m                 \u001b[0;32mif\u001b[0m \u001b[0;32mnot\u001b[0m \u001b[0mignore_failures\u001b[0m\u001b[0;34m:\u001b[0m\u001b[0;34m\u001b[0m\u001b[0;34m\u001b[0m\u001b[0m\n",
            "\u001b[0;32m/usr/local/lib/python3.7/dist-packages/pandas/core/internals/blocks.py\u001b[0m in \u001b[0;36mastype\u001b[0;34m(self, dtype, copy, errors)\u001b[0m\n\u001b[1;32m    589\u001b[0m         \u001b[0mvalues\u001b[0m \u001b[0;34m=\u001b[0m \u001b[0mself\u001b[0m\u001b[0;34m.\u001b[0m\u001b[0mvalues\u001b[0m\u001b[0;34m\u001b[0m\u001b[0;34m\u001b[0m\u001b[0m\n\u001b[1;32m    590\u001b[0m \u001b[0;34m\u001b[0m\u001b[0m\n\u001b[0;32m--> 591\u001b[0;31m         \u001b[0mnew_values\u001b[0m \u001b[0;34m=\u001b[0m \u001b[0mastype_array_safe\u001b[0m\u001b[0;34m(\u001b[0m\u001b[0mvalues\u001b[0m\u001b[0;34m,\u001b[0m \u001b[0mdtype\u001b[0m\u001b[0;34m,\u001b[0m \u001b[0mcopy\u001b[0m\u001b[0;34m=\u001b[0m\u001b[0mcopy\u001b[0m\u001b[0;34m,\u001b[0m \u001b[0merrors\u001b[0m\u001b[0;34m=\u001b[0m\u001b[0merrors\u001b[0m\u001b[0;34m)\u001b[0m\u001b[0;34m\u001b[0m\u001b[0;34m\u001b[0m\u001b[0m\n\u001b[0m\u001b[1;32m    592\u001b[0m \u001b[0;34m\u001b[0m\u001b[0m\n\u001b[1;32m    593\u001b[0m         \u001b[0mnew_values\u001b[0m \u001b[0;34m=\u001b[0m \u001b[0mmaybe_coerce_values\u001b[0m\u001b[0;34m(\u001b[0m\u001b[0mnew_values\u001b[0m\u001b[0;34m)\u001b[0m\u001b[0;34m\u001b[0m\u001b[0;34m\u001b[0m\u001b[0m\n",
            "\u001b[0;32m/usr/local/lib/python3.7/dist-packages/pandas/core/dtypes/cast.py\u001b[0m in \u001b[0;36mastype_array_safe\u001b[0;34m(values, dtype, copy, errors)\u001b[0m\n\u001b[1;32m   1307\u001b[0m \u001b[0;34m\u001b[0m\u001b[0m\n\u001b[1;32m   1308\u001b[0m     \u001b[0;32mtry\u001b[0m\u001b[0;34m:\u001b[0m\u001b[0;34m\u001b[0m\u001b[0;34m\u001b[0m\u001b[0m\n\u001b[0;32m-> 1309\u001b[0;31m         \u001b[0mnew_values\u001b[0m \u001b[0;34m=\u001b[0m \u001b[0mastype_array\u001b[0m\u001b[0;34m(\u001b[0m\u001b[0mvalues\u001b[0m\u001b[0;34m,\u001b[0m \u001b[0mdtype\u001b[0m\u001b[0;34m,\u001b[0m \u001b[0mcopy\u001b[0m\u001b[0;34m=\u001b[0m\u001b[0mcopy\u001b[0m\u001b[0;34m)\u001b[0m\u001b[0;34m\u001b[0m\u001b[0;34m\u001b[0m\u001b[0m\n\u001b[0m\u001b[1;32m   1310\u001b[0m     \u001b[0;32mexcept\u001b[0m \u001b[0;34m(\u001b[0m\u001b[0mValueError\u001b[0m\u001b[0;34m,\u001b[0m \u001b[0mTypeError\u001b[0m\u001b[0;34m)\u001b[0m\u001b[0;34m:\u001b[0m\u001b[0;34m\u001b[0m\u001b[0;34m\u001b[0m\u001b[0m\n\u001b[1;32m   1311\u001b[0m         \u001b[0;31m# e.g. astype_nansafe can fail on object-dtype of strings\u001b[0m\u001b[0;34m\u001b[0m\u001b[0;34m\u001b[0m\u001b[0;34m\u001b[0m\u001b[0m\n",
            "\u001b[0;32m/usr/local/lib/python3.7/dist-packages/pandas/core/dtypes/cast.py\u001b[0m in \u001b[0;36mastype_array\u001b[0;34m(values, dtype, copy)\u001b[0m\n\u001b[1;32m   1255\u001b[0m \u001b[0;34m\u001b[0m\u001b[0m\n\u001b[1;32m   1256\u001b[0m     \u001b[0;32melse\u001b[0m\u001b[0;34m:\u001b[0m\u001b[0;34m\u001b[0m\u001b[0;34m\u001b[0m\u001b[0m\n\u001b[0;32m-> 1257\u001b[0;31m         \u001b[0mvalues\u001b[0m \u001b[0;34m=\u001b[0m \u001b[0mastype_nansafe\u001b[0m\u001b[0;34m(\u001b[0m\u001b[0mvalues\u001b[0m\u001b[0;34m,\u001b[0m \u001b[0mdtype\u001b[0m\u001b[0;34m,\u001b[0m \u001b[0mcopy\u001b[0m\u001b[0;34m=\u001b[0m\u001b[0mcopy\u001b[0m\u001b[0;34m)\u001b[0m\u001b[0;34m\u001b[0m\u001b[0;34m\u001b[0m\u001b[0m\n\u001b[0m\u001b[1;32m   1258\u001b[0m \u001b[0;34m\u001b[0m\u001b[0m\n\u001b[1;32m   1259\u001b[0m     \u001b[0;31m# in pandas we don't store numpy str dtypes, so convert to object\u001b[0m\u001b[0;34m\u001b[0m\u001b[0;34m\u001b[0m\u001b[0;34m\u001b[0m\u001b[0m\n",
            "\u001b[0;32m/usr/local/lib/python3.7/dist-packages/pandas/core/dtypes/cast.py\u001b[0m in \u001b[0;36mastype_nansafe\u001b[0;34m(arr, dtype, copy, skipna)\u001b[0m\n\u001b[1;32m   1199\u001b[0m     \u001b[0;32mif\u001b[0m \u001b[0mcopy\u001b[0m \u001b[0;32mor\u001b[0m \u001b[0mis_object_dtype\u001b[0m\u001b[0;34m(\u001b[0m\u001b[0marr\u001b[0m\u001b[0;34m.\u001b[0m\u001b[0mdtype\u001b[0m\u001b[0;34m)\u001b[0m \u001b[0;32mor\u001b[0m \u001b[0mis_object_dtype\u001b[0m\u001b[0;34m(\u001b[0m\u001b[0mdtype\u001b[0m\u001b[0;34m)\u001b[0m\u001b[0;34m:\u001b[0m\u001b[0;34m\u001b[0m\u001b[0;34m\u001b[0m\u001b[0m\n\u001b[1;32m   1200\u001b[0m         \u001b[0;31m# Explicit copy, or required since NumPy can't view from / to object.\u001b[0m\u001b[0;34m\u001b[0m\u001b[0;34m\u001b[0m\u001b[0;34m\u001b[0m\u001b[0m\n\u001b[0;32m-> 1201\u001b[0;31m         \u001b[0;32mreturn\u001b[0m \u001b[0marr\u001b[0m\u001b[0;34m.\u001b[0m\u001b[0mastype\u001b[0m\u001b[0;34m(\u001b[0m\u001b[0mdtype\u001b[0m\u001b[0;34m,\u001b[0m \u001b[0mcopy\u001b[0m\u001b[0;34m=\u001b[0m\u001b[0;32mTrue\u001b[0m\u001b[0;34m)\u001b[0m\u001b[0;34m\u001b[0m\u001b[0;34m\u001b[0m\u001b[0m\n\u001b[0m\u001b[1;32m   1202\u001b[0m \u001b[0;34m\u001b[0m\u001b[0m\n\u001b[1;32m   1203\u001b[0m     \u001b[0;32mreturn\u001b[0m \u001b[0marr\u001b[0m\u001b[0;34m.\u001b[0m\u001b[0mastype\u001b[0m\u001b[0;34m(\u001b[0m\u001b[0mdtype\u001b[0m\u001b[0;34m,\u001b[0m \u001b[0mcopy\u001b[0m\u001b[0;34m=\u001b[0m\u001b[0mcopy\u001b[0m\u001b[0;34m)\u001b[0m\u001b[0;34m\u001b[0m\u001b[0;34m\u001b[0m\u001b[0m\n",
            "\u001b[0;31mValueError\u001b[0m: could not convert string to float: '1.71´'"
          ]
        }
      ]
    },
    {
      "cell_type": "markdown",
      "metadata": {
        "id": "o4XDodsk-7ZC"
      },
      "source": [
        "Here, we can see that there is an extra field added into the CSV, denoting the row count but the first header is an empty string. Let's fix that and then proceed with finding the number of planets in each of the solar system!"
      ]
    },
    {
      "cell_type": "markdown",
      "metadata": {
        "id": "mvFYbs2EHqq6"
      },
      "source": [
        "Great, now let's plot a bar chart on the planet_mass column with these 6 planet data -"
      ]
    },
    {
      "cell_type": "markdown",
      "metadata": {
        "id": "awYvKhSVPtYz"
      },
      "source": [
        "Now before we proceed, let's learn a fun fact -\n",
        "\n",
        "Great Scientist Albert Einstein gave us a formula with which we can calculate the gravity of any planet.\n",
        "The formula is this -\n",
        "\n",
        "![Screenshot 2020-10-06 at 05.32.49.png](data:image/png;base64,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)\n",
        "\n",
        "Here, G is a gravitational constant, which means that it will always be the same.\n",
        "\n",
        "M(earth) is the mass of Earth (or any other planet if we are calculating it for another planet)\n",
        "\n",
        "d is the radius of the planet!\n",
        "\n",
        "Here, we can see an inverse relation between the the radius of the planet and the gravity. The more the radius (and bigger the planet), the lesser would be Gravity.\n",
        "\n",
        "But then, we also see a direct relation between The mass of the planet and the gravity. The more the mass of the planet, the more will be the gravity.\n",
        "\n",
        "Our **Earth’s gravity is 9.8 m/s**, and we as humans are accustomed to it.\n",
        "\n",
        "In order for us to exist on any other planet, the gravity should be close to what we have here.\n",
        "\n",
        "**Mars** has a gravity of **3.711 m/s** and **Moon** has a gravity of **1.62 m/s**."
      ]
    },
    {
      "cell_type": "markdown",
      "metadata": {
        "id": "Q5SMFOwqQTk5"
      },
      "source": [
        "Given what we have just learnt, let’s try to plot a scatter plot for all the planets, where we will keep the mass of the planet as the Y-Coordinate, The Radius of the Planet as X-Coordinate, and the size of the blob as the gravity of it. Let’s see if we can find anything interesting!\n",
        "\n",
        "**The Value of G (Gravitational Constant) is *6.674e-11***\n",
        "\n",
        "**Mass of Earth = 5.972e+24**\n",
        "\n",
        "**Radius of Earth = 6371000**\n",
        "\n",
        "Note - Since we have the planet_mass and planet_radius with Reference to Earth, don’t forget to multiple the mass of the earth and the radius of the earth with these values -"
      ]
    }
  ]
}